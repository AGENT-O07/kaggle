{
 "cells": [
  {
   "cell_type": "code",
   "execution_count": 1,
   "metadata": {},
   "outputs": [],
   "source": [
    "import numpy as np\n",
    "import pandas as pd\n",
    "import matplotlib.pyplot as plt\n",
    "import seaborn as sns\n",
    "\n",
    "from sklearn.preprocessing import Imputer\n",
    "\n",
    "from scipy.stats import skew\n",
    "\n",
    "%matplotlib inline"
   ]
  },
  {
   "cell_type": "code",
   "execution_count": 2,
   "metadata": {},
   "outputs": [],
   "source": [
    "train = pd.read_csv('data/train.csv')\n",
    "test = pd.read_csv('data/test.csv')"
   ]
  },
  {
   "cell_type": "code",
   "execution_count": 3,
   "metadata": {},
   "outputs": [
    {
     "name": "stdout",
     "output_type": "stream",
     "text": [
      "Before data cleaning and feature engineering:\n",
      "Number of null elements in Train Set:  6965\n",
      "Number of null elements in Test Set:  7000\n"
     ]
    }
   ],
   "source": [
    "print('Before data cleaning and feature engineering:')\n",
    "print('Number of null elements in Train Set: ', sum(sum(train.isnull().values)))\n",
    "print('Number of null elements in Test Set: ', sum(sum(test.isnull().values)))"
   ]
  },
  {
   "cell_type": "code",
   "execution_count": 4,
   "metadata": {},
   "outputs": [],
   "source": [
    "num_cols = train._get_numeric_data().columns\n",
    "num_cols = np.delete(num_cols,[0,len(num_cols)-1]) # Deleting ID and SalePrice (target variable)"
   ]
  },
  {
   "cell_type": "markdown",
   "metadata": {},
   "source": [
    "# Decreasing skewness of the features"
   ]
  },
  {
   "cell_type": "code",
   "execution_count": 5,
   "metadata": {},
   "outputs": [],
   "source": [
    "feat_skewness = train[num_cols].apply(lambda x: skew(x.dropna()))\n",
    "feat_skewness = feat_skewness[abs(feat_skewness) > 0.75] # Selecting highly skewed features\n",
    "\n",
    "for df in (train, test):\n",
    "    df.loc[:,num_cols] = df[num_cols].apply(lambda x: np.log1p(x.dropna()))"
   ]
  },
  {
   "cell_type": "code",
   "execution_count": 6,
   "metadata": {},
   "outputs": [
    {
     "data": {
      "text/plain": [
       "BsmtFinSF2        2.521100\n",
       "BsmtUnfSF        -2.184257\n",
       "TotalBsmtSF      -5.149373\n",
       "LowQualFinSF      7.452650\n",
       "BsmtHalfBath      3.929022\n",
       "BedroomAbvGr     -1.232409\n",
       "KitchenAbvGr      3.865437\n",
       "GarageCars       -1.368811\n",
       "GarageArea       -3.479025\n",
       "EnclosedPorch     2.110104\n",
       "3SsnPorch         7.727026\n",
       "ScreenPorch       3.147171\n",
       "PoolArea         14.348342\n",
       "MiscVal           5.165390\n",
       "MoSold           -0.912485\n",
       "dtype: float64"
      ]
     },
     "execution_count": 6,
     "metadata": {},
     "output_type": "execute_result"
    }
   ],
   "source": [
    "feat_skewness_improved = train[num_cols].apply(lambda x: skew(x.dropna()))\n",
    "feat_skewness_improved[abs(feat_skewness_improved) > 0.75]"
   ]
  },
  {
   "cell_type": "code",
   "execution_count": 7,
   "metadata": {},
   "outputs": [
    {
     "data": {
      "image/png": "[encoded data removed]",
      "text/plain": [
       "<Figure size 432x288 with 1 Axes>"
      ]
     },
     "metadata": {},
     "output_type": "display_data"
    }
   ],
   "source": [
    "train.loc[:,'SalePrice'] = np.log1p(train['SalePrice'].dropna())\n",
    "g = sns.distplot(train['SalePrice'])"
   ]
  },
  {
   "cell_type": "markdown",
   "metadata": {},
   "source": [
    "# Imputing numerical features"
   ]
  },
  {
   "cell_type": "code",
   "execution_count": 8,
   "metadata": {},
   "outputs": [],
   "source": [
    "def impute_numer(df):\n",
    "    num_cols = df._get_numeric_data().columns\n",
    "    imputer = Imputer(missing_values='NaN', strategy='mean', axis=0)\n",
    "    imputer = imputer.fit(df.loc[:, num_cols])\n",
    "    df.loc[:, num_cols] = imputer.transform(df.loc[:, num_cols])\n",
    "    return df"
   ]
  },
  {
   "cell_type": "code",
   "execution_count": 9,
   "metadata": {},
   "outputs": [],
   "source": [
    "train = impute_numer(train)\n",
    "test = impute_numer(test)"
   ]
  },
  {
   "cell_type": "markdown",
   "metadata": {},
   "source": [
    "# Imputing categorical features"
   ]
  },
  {
   "cell_type": "code",
   "execution_count": 10,
   "metadata": {},
   "outputs": [],
   "source": [
    "def clean(x):\n",
    "    if str(x).lower() in {'none', 'nan'}:\n",
    "        return 'none'\n",
    "    else:\n",
    "        return x"
   ]
  },
  {
   "cell_type": "code",
   "execution_count": 11,
   "metadata": {},
   "outputs": [],
   "source": [
    "def impute_categor(train, test):\n",
    "    str_cols = train.dtypes[train.dtypes == 'object'].index.values\n",
    "    for col in str_cols:\n",
    "        train[col] = train[col].apply(clean)\n",
    "        test[col] = test[col].apply(clean)\n",
    "        imputing_number = 1\n",
    "        categories_sorted = train.groupby([col])['SalePrice'].sum().sort_values().index.values\n",
    "        for category in categories_sorted:\n",
    "            train.loc[train[col]  == category, col] = imputing_number\n",
    "            test.loc[test[col]  == category, col] = imputing_number\n",
    "            imputing_number += 1\n",
    "    return train, test"
   ]
  },
  {
   "cell_type": "code",
   "execution_count": 12,
   "metadata": {},
   "outputs": [],
   "source": [
    "train, test = impute_categor(train, test)"
   ]
  },
  {
   "cell_type": "markdown",
   "metadata": {},
   "source": [
    "# ------------------------------------------------------------------------------------"
   ]
  },
  {
   "cell_type": "code",
   "execution_count": 13,
   "metadata": {},
   "outputs": [
    {
     "name": "stdout",
     "output_type": "stream",
     "text": [
      "After data cleaning and feature engineering:\n",
      "Number of null elements in Train Set:  0\n",
      "Number of null elements in Test Set:  0\n"
     ]
    }
   ],
   "source": [
    "print('After data cleaning and feature engineering:')\n",
    "print('Number of null elements in Train Set: ', sum(sum(train.isnull().values)))\n",
    "print('Number of null elements in Test Set: ', sum(sum(test.isnull().values)))"
   ]
  },
  {
   "cell_type": "code",
   "execution_count": 14,
   "metadata": {},
   "outputs": [],
   "source": [
    "train.to_csv('data/train_cleaned.csv', index=False)\n",
    "test.to_csv('data/test_cleaned.csv', index=False)"
   ]
  }
 ],
 "metadata": {
  "kernelspec": {
   "display_name": "Python 3",
   "language": "python",
   "name": "python3"
  },
  "language_info": {
   "codemirror_mode": {
    "name": "ipython",
    "version": 3
   },
   "file_extension": ".py",
   "mimetype": "text/x-python",
   "name": "python",
   "nbconvert_exporter": "python",
   "pygments_lexer": "ipython3",
   "version": "3.6.5"
  }
 },
 "nbformat": 4,
 "nbformat_minor": 2
}
