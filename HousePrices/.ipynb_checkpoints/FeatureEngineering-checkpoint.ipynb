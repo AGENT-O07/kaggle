{
 "cells": [
  {
   "cell_type": "code",
   "execution_count": 1,
   "metadata": {},
   "outputs": [],
   "source": [
    "import numpy as np\n",
    "import pandas as pd\n",
    "import matplotlib.pyplot as plt\n",
    "import seaborn as sns\n",
    "\n",
    "from sklearn.preprocessing import Imputer\n",
    "from scipy.stats import skew\n",
    "from sklearn.preprocessing import StandardScaler\n",
    "\n",
    "%matplotlib inline"
   ]
  },
  {
   "cell_type": "code",
   "execution_count": 2,
   "metadata": {},
   "outputs": [],
   "source": [
    "train = pd.read_csv('data/train.csv')\n",
    "test = pd.read_csv('data/test.csv')"
   ]
  },
  {
   "cell_type": "code",
   "execution_count": 3,
   "metadata": {},
   "outputs": [
    {
     "name": "stdout",
     "output_type": "stream",
     "text": [
      "Before data cleaning and feature engineering:\n",
      "Number of null elements in Train Set:  6965\n",
      "Number of null elements in Test Set:  7000\n"
     ]
    }
   ],
   "source": [
    "print('Before data cleaning and feature engineering:')\n",
    "print('Number of null elements in Train Set: ', sum(sum(train.isnull().values)))\n",
    "print('Number of null elements in Test Set: ', sum(sum(test.isnull().values)))"
   ]
  },
  {
   "cell_type": "code",
   "execution_count": 4,
   "metadata": {},
   "outputs": [],
   "source": [
    "# Obtaining list of numerical columns\n",
    "num_cols = train._get_numeric_data().columns\n",
    "# Deleting ID and SalePrice (target variable)\n",
    "# See the MSSubClass and YrSold barplots in the EDA file \n",
    "num_cols = num_cols.drop(['Id', 'SalePrice', 'MSSubClass', 'YrSold'])"
   ]
  },
  {
   "cell_type": "markdown",
   "metadata": {},
   "source": [
    "# Imputing numerical features"
   ]
  },
  {
   "cell_type": "code",
   "execution_count": 5,
   "metadata": {},
   "outputs": [],
   "source": [
    "def impute_numer(df):\n",
    "    num_cols = df._get_numeric_data().columns\n",
    "    imputer = Imputer(missing_values='NaN', strategy='median', axis=0)\n",
    "    imputer = imputer.fit(df.loc[:, num_cols])\n",
    "    df.loc[:, num_cols] = imputer.transform(df.loc[:, num_cols])\n",
    "    return df"
   ]
  },
  {
   "cell_type": "code",
   "execution_count": 6,
   "metadata": {},
   "outputs": [],
   "source": [
    "train = impute_numer(train)\n",
    "test = impute_numer(test)"
   ]
  },
  {
   "cell_type": "markdown",
   "metadata": {},
   "source": [
    "# Imputing categorical features"
   ]
  },
  {
   "cell_type": "code",
   "execution_count": 7,
   "metadata": {},
   "outputs": [],
   "source": [
    "def impute_categor(train_df, test_df):\n",
    "    str_cols = train_df.dtypes[train_df.dtypes == 'object'].index.values\n",
    "    \n",
    "    for col in ['MSSubClass', 'YrSold']:\n",
    "        str_cols = np.append(str_cols, col) # See the MSSubClass and YrSold barplots in the EDA file \n",
    "        train_df[col] = train_df[col].apply(lambda x: str(x))\n",
    "        test_df[col] = test_df[col].apply(lambda x: str(x))\n",
    "        \n",
    "    for col in str_cols:\n",
    "        train_df[col].fillna('none', inplace = True)\n",
    "        test_df[col].fillna('none', inplace = True)\n",
    "        \n",
    "        imputing_number = 1\n",
    "        categories_sorted = train_df.groupby(col)['SalePrice'].sum().sort_values().index.values\n",
    "        if ('none' not in categories_sorted) and ('none' in test_df[col].unique()):\n",
    "            categories_sorted = np.insert(categories_sorted,0,'none') # Test categorical values can \n",
    "                                                                      # slightly differ from the train ones\n",
    "        for category in categories_sorted:\n",
    "            train_df.loc[train_df[col].apply(lambda x: str(x)) == category, col] = imputing_number\n",
    "            test_df.loc[test_df[col].apply(lambda x: str(x)) == category, col] = imputing_number\n",
    "            imputing_number += 1\n",
    "    return train_df, test_df"
   ]
  },
  {
   "cell_type": "code",
   "execution_count": 8,
   "metadata": {},
   "outputs": [],
   "source": [
    "train, test = impute_categor(train, test)"
   ]
  },
  {
   "cell_type": "markdown",
   "metadata": {},
   "source": [
    "# Decreasing skewness of the features"
   ]
  },
  {
   "cell_type": "code",
   "execution_count": 9,
   "metadata": {},
   "outputs": [
    {
     "name": "stdout",
     "output_type": "stream",
     "text": [
      "LotFrontage       2.406671\n",
      "LotArea          12.195142\n",
      "MasVnrArea        2.674865\n",
      "BsmtFinSF1        1.683771\n",
      "BsmtFinSF2        4.250888\n",
      "BsmtUnfSF         0.919323\n",
      "TotalBsmtSF       1.522688\n",
      "1stFlrSF          1.375342\n",
      "2ndFlrSF          0.812194\n",
      "LowQualFinSF      9.002080\n",
      "GrLivArea         1.365156\n",
      "BsmtHalfBath      4.099186\n",
      "KitchenAbvGr      4.483784\n",
      "WoodDeckSF        1.539792\n",
      "OpenPorchSF       2.361912\n",
      "EnclosedPorch     3.086696\n",
      "3SsnPorch        10.293752\n",
      "ScreenPorch       4.117977\n",
      "PoolArea         14.813135\n",
      "MiscVal          24.451640\n",
      "dtype: float64\n"
     ]
    }
   ],
   "source": [
    "feat_skewness = train[num_cols].apply(lambda x: skew(x.dropna()))\n",
    "feat_skewness = feat_skewness[abs(feat_skewness) > 0.75] # Selecting highly skewed features\n",
    "print(feat_skewness)\n",
    "\n",
    "for df in (train, test):\n",
    "    df.loc[:,num_cols] = df[num_cols].apply(lambda x: np.log1p(x.dropna()))"
   ]
  },
  {
   "cell_type": "code",
   "execution_count": 10,
   "metadata": {},
   "outputs": [
    {
     "data": {
      "text/plain": [
       "LotFrontage      -0.869112\n",
       "BsmtFinSF2        2.521100\n",
       "BsmtUnfSF        -2.184257\n",
       "TotalBsmtSF      -5.149373\n",
       "LowQualFinSF      7.452650\n",
       "BsmtHalfBath      3.929022\n",
       "BedroomAbvGr     -1.232409\n",
       "KitchenAbvGr      3.865437\n",
       "GarageCars       -1.368811\n",
       "GarageArea       -3.479025\n",
       "EnclosedPorch     2.110104\n",
       "3SsnPorch         7.727026\n",
       "ScreenPorch       3.147171\n",
       "PoolArea         14.348342\n",
       "MiscVal           5.165390\n",
       "MoSold           -0.912485\n",
       "dtype: float64"
      ]
     },
     "execution_count": 10,
     "metadata": {},
     "output_type": "execute_result"
    }
   ],
   "source": [
    "feat_skewness_improved = train[num_cols].apply(lambda x: skew(x.dropna()))\n",
    "feat_skewness_improved[abs(feat_skewness_improved) > 0.75]"
   ]
  },
  {
   "cell_type": "code",
   "execution_count": 11,
   "metadata": {},
   "outputs": [
    {
     "data": {
      "image/png": "[encoded data removed]",
      "text/plain": [
       "<Figure size 432x288 with 1 Axes>"
      ]
     },
     "metadata": {},
     "output_type": "display_data"
    }
   ],
   "source": [
    "train.loc[:,'SalePrice'] = np.log1p(train['SalePrice'].dropna())\n",
    "g = sns.distplot(train['SalePrice'])"
   ]
  },
  {
   "cell_type": "markdown",
   "metadata": {},
   "source": [
    "# Features Scaling"
   ]
  },
  {
   "cell_type": "code",
   "execution_count": 12,
   "metadata": {},
   "outputs": [],
   "source": [
    "scaler = StandardScaler()\n",
    "\n",
    "train_cols_to_scale = train.columns.delete([0,train.shape[1]-1]) # Deleting ID and SalePrice (target variable)\n",
    "train[train_cols_to_scale] = scaler.fit_transform(train[train_cols_to_scale])\n",
    "\n",
    "test_cols_to_scale = test.columns.delete(0) # Deleting ID\n",
    "test[test_cols_to_scale] = scaler.fit_transform(test[test_cols_to_scale])"
   ]
  },
  {
   "cell_type": "markdown",
   "metadata": {},
   "source": [
    "# Feature Engineering Results"
   ]
  },
  {
   "cell_type": "code",
   "execution_count": 13,
   "metadata": {},
   "outputs": [
    {
     "data": {
      "text/html": [
       "<div>\n",
       "<style scoped>\n",
       "    .dataframe tbody tr th:only-of-type {\n",
       "        vertical-align: middle;\n",
       "    }\n",
       "\n",
       "    .dataframe tbody tr th {\n",
       "        vertical-align: top;\n",
       "    }\n",
       "\n",
       "    .dataframe thead th {\n",
       "        text-align: right;\n",
       "    }\n",
       "</style>\n",
       "<table border=\"1\" class=\"dataframe\">\n",
       "  <thead>\n",
       "    <tr style=\"text-align: right;\">\n",
       "      <th></th>\n",
       "      <th>Id</th>\n",
       "      <th>MSSubClass</th>\n",
       "      <th>MSZoning</th>\n",
       "      <th>LotFrontage</th>\n",
       "      <th>LotArea</th>\n",
       "      <th>Street</th>\n",
       "      <th>Alley</th>\n",
       "      <th>LotShape</th>\n",
       "      <th>LandContour</th>\n",
       "      <th>Utilities</th>\n",
       "      <th>...</th>\n",
       "      <th>PoolArea</th>\n",
       "      <th>PoolQC</th>\n",
       "      <th>Fence</th>\n",
       "      <th>MiscFeature</th>\n",
       "      <th>MiscVal</th>\n",
       "      <th>MoSold</th>\n",
       "      <th>YrSold</th>\n",
       "      <th>SaleType</th>\n",
       "      <th>SaleCondition</th>\n",
       "      <th>SalePrice</th>\n",
       "    </tr>\n",
       "  </thead>\n",
       "  <tbody>\n",
       "    <tr>\n",
       "      <th>0</th>\n",
       "      <td>1.0</td>\n",
       "      <td>0.471285</td>\n",
       "      <td>0.446945</td>\n",
       "      <td>-0.078896</td>\n",
       "      <td>-0.133270</td>\n",
       "      <td>0.064238</td>\n",
       "      <td>0.244717</td>\n",
       "      <td>0.701291</td>\n",
       "      <td>0.311112</td>\n",
       "      <td>0.02618</td>\n",
       "      <td>...</td>\n",
       "      <td>-0.069393</td>\n",
       "      <td>0.064907</td>\n",
       "      <td>0.420422</td>\n",
       "      <td>0.171671</td>\n",
       "      <td>-0.190481</td>\n",
       "      <td>-1.909325</td>\n",
       "      <td>-0.928852</td>\n",
       "      <td>0.292103</td>\n",
       "      <td>0.406244</td>\n",
       "      <td>12.247699</td>\n",
       "    </tr>\n",
       "    <tr>\n",
       "      <th>1</th>\n",
       "      <td>2.0</td>\n",
       "      <td>0.785189</td>\n",
       "      <td>0.446945</td>\n",
       "      <td>0.572719</td>\n",
       "      <td>0.113413</td>\n",
       "      <td>0.064238</td>\n",
       "      <td>0.244717</td>\n",
       "      <td>0.701291</td>\n",
       "      <td>0.311112</td>\n",
       "      <td>0.02618</td>\n",
       "      <td>...</td>\n",
       "      <td>-0.069393</td>\n",
       "      <td>0.064907</td>\n",
       "      <td>0.420422</td>\n",
       "      <td>0.171671</td>\n",
       "      <td>-0.190481</td>\n",
       "      <td>-0.279901</td>\n",
       "      <td>1.328846</td>\n",
       "      <td>0.292103</td>\n",
       "      <td>0.406244</td>\n",
       "      <td>12.109016</td>\n",
       "    </tr>\n",
       "    <tr>\n",
       "      <th>2</th>\n",
       "      <td>3.0</td>\n",
       "      <td>0.471285</td>\n",
       "      <td>0.446945</td>\n",
       "      <td>0.062541</td>\n",
       "      <td>0.420049</td>\n",
       "      <td>0.064238</td>\n",
       "      <td>0.244717</td>\n",
       "      <td>-1.016637</td>\n",
       "      <td>0.311112</td>\n",
       "      <td>0.02618</td>\n",
       "      <td>...</td>\n",
       "      <td>-0.069393</td>\n",
       "      <td>0.064907</td>\n",
       "      <td>0.420422</td>\n",
       "      <td>0.171671</td>\n",
       "      <td>-0.190481</td>\n",
       "      <td>0.920928</td>\n",
       "      <td>-0.928852</td>\n",
       "      <td>0.292103</td>\n",
       "      <td>0.406244</td>\n",
       "      <td>12.317171</td>\n",
       "    </tr>\n",
       "    <tr>\n",
       "      <th>3</th>\n",
       "      <td>4.0</td>\n",
       "      <td>-0.470425</td>\n",
       "      <td>0.446945</td>\n",
       "      <td>-0.329561</td>\n",
       "      <td>0.103317</td>\n",
       "      <td>0.064238</td>\n",
       "      <td>0.244717</td>\n",
       "      <td>-1.016637</td>\n",
       "      <td>0.311112</td>\n",
       "      <td>0.02618</td>\n",
       "      <td>...</td>\n",
       "      <td>-0.069393</td>\n",
       "      <td>0.064907</td>\n",
       "      <td>0.420422</td>\n",
       "      <td>0.171671</td>\n",
       "      <td>-0.190481</td>\n",
       "      <td>-1.909325</td>\n",
       "      <td>-0.176286</td>\n",
       "      <td>0.292103</td>\n",
       "      <td>-2.200862</td>\n",
       "      <td>11.849405</td>\n",
       "    </tr>\n",
       "    <tr>\n",
       "      <th>4</th>\n",
       "      <td>5.0</td>\n",
       "      <td>0.471285</td>\n",
       "      <td>0.446945</td>\n",
       "      <td>0.726089</td>\n",
       "      <td>0.878431</td>\n",
       "      <td>0.064238</td>\n",
       "      <td>0.244717</td>\n",
       "      <td>-1.016637</td>\n",
       "      <td>0.311112</td>\n",
       "      <td>0.02618</td>\n",
       "      <td>...</td>\n",
       "      <td>-0.069393</td>\n",
       "      <td>0.064907</td>\n",
       "      <td>0.420422</td>\n",
       "      <td>0.171671</td>\n",
       "      <td>-0.190481</td>\n",
       "      <td>1.537684</td>\n",
       "      <td>-0.928852</td>\n",
       "      <td>0.292103</td>\n",
       "      <td>0.406244</td>\n",
       "      <td>12.429220</td>\n",
       "    </tr>\n",
       "  </tbody>\n",
       "</table>\n",
       "<p>5 rows × 81 columns</p>\n",
       "</div>"
      ],
      "text/plain": [
       "    Id  MSSubClass  MSZoning  LotFrontage   LotArea    Street     Alley  \\\n",
       "0  1.0    0.471285  0.446945    -0.078896 -0.133270  0.064238  0.244717   \n",
       "1  2.0    0.785189  0.446945     0.572719  0.113413  0.064238  0.244717   \n",
       "2  3.0    0.471285  0.446945     0.062541  0.420049  0.064238  0.244717   \n",
       "3  4.0   -0.470425  0.446945    -0.329561  0.103317  0.064238  0.244717   \n",
       "4  5.0    0.471285  0.446945     0.726089  0.878431  0.064238  0.244717   \n",
       "\n",
       "   LotShape  LandContour  Utilities    ...      PoolArea    PoolQC     Fence  \\\n",
       "0  0.701291     0.311112    0.02618    ...     -0.069393  0.064907  0.420422   \n",
       "1  0.701291     0.311112    0.02618    ...     -0.069393  0.064907  0.420422   \n",
       "2 -1.016637     0.311112    0.02618    ...     -0.069393  0.064907  0.420422   \n",
       "3 -1.016637     0.311112    0.02618    ...     -0.069393  0.064907  0.420422   \n",
       "4 -1.016637     0.311112    0.02618    ...     -0.069393  0.064907  0.420422   \n",
       "\n",
       "   MiscFeature   MiscVal    MoSold    YrSold  SaleType  SaleCondition  \\\n",
       "0     0.171671 -0.190481 -1.909325 -0.928852  0.292103       0.406244   \n",
       "1     0.171671 -0.190481 -0.279901  1.328846  0.292103       0.406244   \n",
       "2     0.171671 -0.190481  0.920928 -0.928852  0.292103       0.406244   \n",
       "3     0.171671 -0.190481 -1.909325 -0.176286  0.292103      -2.200862   \n",
       "4     0.171671 -0.190481  1.537684 -0.928852  0.292103       0.406244   \n",
       "\n",
       "   SalePrice  \n",
       "0  12.247699  \n",
       "1  12.109016  \n",
       "2  12.317171  \n",
       "3  11.849405  \n",
       "4  12.429220  \n",
       "\n",
       "[5 rows x 81 columns]"
      ]
     },
     "execution_count": 13,
     "metadata": {},
     "output_type": "execute_result"
    }
   ],
   "source": [
    "train.head()"
   ]
  },
  {
   "cell_type": "code",
   "execution_count": 14,
   "metadata": {},
   "outputs": [
    {
     "data": {
      "text/html": [
       "<div>\n",
       "<style scoped>\n",
       "    .dataframe tbody tr th:only-of-type {\n",
       "        vertical-align: middle;\n",
       "    }\n",
       "\n",
       "    .dataframe tbody tr th {\n",
       "        vertical-align: top;\n",
       "    }\n",
       "\n",
       "    .dataframe thead th {\n",
       "        text-align: right;\n",
       "    }\n",
       "</style>\n",
       "<table border=\"1\" class=\"dataframe\">\n",
       "  <thead>\n",
       "    <tr style=\"text-align: right;\">\n",
       "      <th></th>\n",
       "      <th>Id</th>\n",
       "      <th>MSSubClass</th>\n",
       "      <th>MSZoning</th>\n",
       "      <th>LotFrontage</th>\n",
       "      <th>LotArea</th>\n",
       "      <th>Street</th>\n",
       "      <th>Alley</th>\n",
       "      <th>LotShape</th>\n",
       "      <th>LandContour</th>\n",
       "      <th>Utilities</th>\n",
       "      <th>...</th>\n",
       "      <th>ScreenPorch</th>\n",
       "      <th>PoolArea</th>\n",
       "      <th>PoolQC</th>\n",
       "      <th>Fence</th>\n",
       "      <th>MiscFeature</th>\n",
       "      <th>MiscVal</th>\n",
       "      <th>MoSold</th>\n",
       "      <th>YrSold</th>\n",
       "      <th>SaleType</th>\n",
       "      <th>SaleCondition</th>\n",
       "    </tr>\n",
       "  </thead>\n",
       "  <tbody>\n",
       "    <tr>\n",
       "      <th>0</th>\n",
       "      <td>1461.0</td>\n",
       "      <td>0.502726</td>\n",
       "      <td>-3.596122</td>\n",
       "      <td>0.623823</td>\n",
       "      <td>0.561787</td>\n",
       "      <td>0.06426</td>\n",
       "      <td>0.269555</td>\n",
       "      <td>0.703009</td>\n",
       "      <td>0.305442</td>\n",
       "      <td>0.03705</td>\n",
       "      <td>...</td>\n",
       "      <td>2.844271</td>\n",
       "      <td>-0.063967</td>\n",
       "      <td>0.042791</td>\n",
       "      <td>-0.919649</td>\n",
       "      <td>0.167895</td>\n",
       "      <td>-0.188227</td>\n",
       "      <td>0.162759</td>\n",
       "      <td>-1.687806</td>\n",
       "      <td>0.296667</td>\n",
       "      <td>0.393203</td>\n",
       "    </tr>\n",
       "    <tr>\n",
       "      <th>1</th>\n",
       "      <td>1462.0</td>\n",
       "      <td>0.502726</td>\n",
       "      <td>0.463776</td>\n",
       "      <td>0.661410</td>\n",
       "      <td>0.970407</td>\n",
       "      <td>0.06426</td>\n",
       "      <td>0.269555</td>\n",
       "      <td>-1.090156</td>\n",
       "      <td>0.305442</td>\n",
       "      <td>0.03705</td>\n",
       "      <td>...</td>\n",
       "      <td>-0.324992</td>\n",
       "      <td>-0.063967</td>\n",
       "      <td>0.042791</td>\n",
       "      <td>0.434304</td>\n",
       "      <td>-7.997418</td>\n",
       "      <td>7.333230</td>\n",
       "      <td>0.162759</td>\n",
       "      <td>-1.687806</td>\n",
       "      <td>0.296667</td>\n",
       "      <td>0.393203</td>\n",
       "    </tr>\n",
       "    <tr>\n",
       "      <th>2</th>\n",
       "      <td>1463.0</td>\n",
       "      <td>0.292017</td>\n",
       "      <td>0.463776</td>\n",
       "      <td>0.388069</td>\n",
       "      <td>0.908413</td>\n",
       "      <td>0.06426</td>\n",
       "      <td>0.269555</td>\n",
       "      <td>-1.090156</td>\n",
       "      <td>0.305442</td>\n",
       "      <td>0.03705</td>\n",
       "      <td>...</td>\n",
       "      <td>-0.324992</td>\n",
       "      <td>-0.063967</td>\n",
       "      <td>0.042791</td>\n",
       "      <td>-0.919649</td>\n",
       "      <td>0.167895</td>\n",
       "      <td>-0.188227</td>\n",
       "      <td>-1.100777</td>\n",
       "      <td>-1.687806</td>\n",
       "      <td>0.296667</td>\n",
       "      <td>0.393203</td>\n",
       "    </tr>\n",
       "    <tr>\n",
       "      <th>3</th>\n",
       "      <td>1464.0</td>\n",
       "      <td>0.292017</td>\n",
       "      <td>0.463776</td>\n",
       "      <td>0.547237</td>\n",
       "      <td>0.257857</td>\n",
       "      <td>0.06426</td>\n",
       "      <td>0.269555</td>\n",
       "      <td>-1.090156</td>\n",
       "      <td>0.305442</td>\n",
       "      <td>0.03705</td>\n",
       "      <td>...</td>\n",
       "      <td>-0.324992</td>\n",
       "      <td>-0.063967</td>\n",
       "      <td>0.042791</td>\n",
       "      <td>0.434304</td>\n",
       "      <td>0.167895</td>\n",
       "      <td>-0.188227</td>\n",
       "      <td>0.162759</td>\n",
       "      <td>-1.687806</td>\n",
       "      <td>0.296667</td>\n",
       "      <td>0.393203</td>\n",
       "    </tr>\n",
       "    <tr>\n",
       "      <th>4</th>\n",
       "      <td>1465.0</td>\n",
       "      <td>-0.129400</td>\n",
       "      <td>0.463776</td>\n",
       "      <td>-1.245577</td>\n",
       "      <td>-1.116969</td>\n",
       "      <td>0.06426</td>\n",
       "      <td>0.269555</td>\n",
       "      <td>-1.090156</td>\n",
       "      <td>-1.477119</td>\n",
       "      <td>0.03705</td>\n",
       "      <td>...</td>\n",
       "      <td>2.963846</td>\n",
       "      <td>-0.063967</td>\n",
       "      <td>0.042791</td>\n",
       "      <td>0.434304</td>\n",
       "      <td>0.167895</td>\n",
       "      <td>-0.188227</td>\n",
       "      <td>-2.665809</td>\n",
       "      <td>-1.687806</td>\n",
       "      <td>0.296667</td>\n",
       "      <td>0.393203</td>\n",
       "    </tr>\n",
       "  </tbody>\n",
       "</table>\n",
       "<p>5 rows × 80 columns</p>\n",
       "</div>"
      ],
      "text/plain": [
       "       Id  MSSubClass  MSZoning  LotFrontage   LotArea   Street     Alley  \\\n",
       "0  1461.0    0.502726 -3.596122     0.623823  0.561787  0.06426  0.269555   \n",
       "1  1462.0    0.502726  0.463776     0.661410  0.970407  0.06426  0.269555   \n",
       "2  1463.0    0.292017  0.463776     0.388069  0.908413  0.06426  0.269555   \n",
       "3  1464.0    0.292017  0.463776     0.547237  0.257857  0.06426  0.269555   \n",
       "4  1465.0   -0.129400  0.463776    -1.245577 -1.116969  0.06426  0.269555   \n",
       "\n",
       "   LotShape  LandContour  Utilities      ...        ScreenPorch  PoolArea  \\\n",
       "0  0.703009     0.305442    0.03705      ...           2.844271 -0.063967   \n",
       "1 -1.090156     0.305442    0.03705      ...          -0.324992 -0.063967   \n",
       "2 -1.090156     0.305442    0.03705      ...          -0.324992 -0.063967   \n",
       "3 -1.090156     0.305442    0.03705      ...          -0.324992 -0.063967   \n",
       "4 -1.090156    -1.477119    0.03705      ...           2.963846 -0.063967   \n",
       "\n",
       "     PoolQC     Fence  MiscFeature   MiscVal    MoSold    YrSold  SaleType  \\\n",
       "0  0.042791 -0.919649     0.167895 -0.188227  0.162759 -1.687806  0.296667   \n",
       "1  0.042791  0.434304    -7.997418  7.333230  0.162759 -1.687806  0.296667   \n",
       "2  0.042791 -0.919649     0.167895 -0.188227 -1.100777 -1.687806  0.296667   \n",
       "3  0.042791  0.434304     0.167895 -0.188227  0.162759 -1.687806  0.296667   \n",
       "4  0.042791  0.434304     0.167895 -0.188227 -2.665809 -1.687806  0.296667   \n",
       "\n",
       "   SaleCondition  \n",
       "0       0.393203  \n",
       "1       0.393203  \n",
       "2       0.393203  \n",
       "3       0.393203  \n",
       "4       0.393203  \n",
       "\n",
       "[5 rows x 80 columns]"
      ]
     },
     "execution_count": 14,
     "metadata": {},
     "output_type": "execute_result"
    }
   ],
   "source": [
    "test.head()"
   ]
  },
  {
   "cell_type": "code",
   "execution_count": 15,
   "metadata": {},
   "outputs": [],
   "source": [
    "test['Id'] = test['Id'].apply(lambda x: int(x))"
   ]
  },
  {
   "cell_type": "code",
   "execution_count": 16,
   "metadata": {},
   "outputs": [
    {
     "name": "stdout",
     "output_type": "stream",
     "text": [
      "After data cleaning and feature engineering:\n",
      "Number of null elements in Train Set:  0\n",
      "Number of null elements in Test Set:  0\n"
     ]
    }
   ],
   "source": [
    "print('After data cleaning and feature engineering:')\n",
    "print('Number of null elements in Train Set: ', sum(sum(train.isnull().values)))\n",
    "print('Number of null elements in Test Set: ', sum(sum(test.isnull().values)))"
   ]
  },
  {
   "cell_type": "code",
   "execution_count": 17,
   "metadata": {},
   "outputs": [
    {
     "data": {
      "text/plain": [
       "array([dtype('float64'), dtype('float64'), dtype('float64'),\n",
       "       dtype('float64'), dtype('float64'), dtype('float64'),\n",
       "       dtype('float64'), dtype('float64'), dtype('float64'),\n",
       "       dtype('float64'), dtype('float64'), dtype('float64'),\n",
       "       dtype('float64'), dtype('float64'), dtype('float64'),\n",
       "       dtype('float64'), dtype('float64'), dtype('float64'),\n",
       "       dtype('float64'), dtype('float64'), dtype('float64'),\n",
       "       dtype('float64'), dtype('float64'), dtype('float64'),\n",
       "       dtype('float64'), dtype('float64'), dtype('float64'),\n",
       "       dtype('float64'), dtype('float64'), dtype('float64'),\n",
       "       dtype('float64'), dtype('float64'), dtype('float64'),\n",
       "       dtype('float64'), dtype('float64'), dtype('float64'),\n",
       "       dtype('float64'), dtype('float64'), dtype('float64'),\n",
       "       dtype('float64'), dtype('float64'), dtype('float64'),\n",
       "       dtype('float64'), dtype('float64'), dtype('float64'),\n",
       "       dtype('float64'), dtype('float64'), dtype('float64'),\n",
       "       dtype('float64'), dtype('float64'), dtype('float64'),\n",
       "       dtype('float64'), dtype('float64'), dtype('float64'),\n",
       "       dtype('float64'), dtype('float64'), dtype('float64'),\n",
       "       dtype('float64'), dtype('float64'), dtype('float64'),\n",
       "       dtype('float64'), dtype('float64'), dtype('float64'),\n",
       "       dtype('float64'), dtype('float64'), dtype('float64'),\n",
       "       dtype('float64'), dtype('float64'), dtype('float64'),\n",
       "       dtype('float64'), dtype('float64'), dtype('float64'),\n",
       "       dtype('float64'), dtype('float64'), dtype('float64'),\n",
       "       dtype('float64'), dtype('float64'), dtype('float64'),\n",
       "       dtype('float64'), dtype('float64'), dtype('float64')], dtype=object)"
      ]
     },
     "execution_count": 17,
     "metadata": {},
     "output_type": "execute_result"
    }
   ],
   "source": [
    "train.dtypes.values"
   ]
  },
  {
   "cell_type": "markdown",
   "metadata": {},
   "source": [
    "All features in the train set have numerical values"
   ]
  },
  {
   "cell_type": "code",
   "execution_count": 18,
   "metadata": {},
   "outputs": [
    {
     "data": {
      "text/plain": [
       "array([dtype('int64'), dtype('float64'), dtype('float64'),\n",
       "       dtype('float64'), dtype('float64'), dtype('float64'),\n",
       "       dtype('float64'), dtype('float64'), dtype('float64'),\n",
       "       dtype('float64'), dtype('float64'), dtype('float64'),\n",
       "       dtype('float64'), dtype('float64'), dtype('float64'),\n",
       "       dtype('float64'), dtype('float64'), dtype('float64'),\n",
       "       dtype('float64'), dtype('float64'), dtype('float64'),\n",
       "       dtype('float64'), dtype('float64'), dtype('float64'),\n",
       "       dtype('float64'), dtype('float64'), dtype('float64'),\n",
       "       dtype('float64'), dtype('float64'), dtype('float64'),\n",
       "       dtype('float64'), dtype('float64'), dtype('float64'),\n",
       "       dtype('float64'), dtype('float64'), dtype('float64'),\n",
       "       dtype('float64'), dtype('float64'), dtype('float64'),\n",
       "       dtype('float64'), dtype('float64'), dtype('float64'),\n",
       "       dtype('float64'), dtype('float64'), dtype('float64'),\n",
       "       dtype('float64'), dtype('float64'), dtype('float64'),\n",
       "       dtype('float64'), dtype('float64'), dtype('float64'),\n",
       "       dtype('float64'), dtype('float64'), dtype('float64'),\n",
       "       dtype('float64'), dtype('float64'), dtype('float64'),\n",
       "       dtype('float64'), dtype('float64'), dtype('float64'),\n",
       "       dtype('float64'), dtype('float64'), dtype('float64'),\n",
       "       dtype('float64'), dtype('float64'), dtype('float64'),\n",
       "       dtype('float64'), dtype('float64'), dtype('float64'),\n",
       "       dtype('float64'), dtype('float64'), dtype('float64'),\n",
       "       dtype('float64'), dtype('float64'), dtype('float64'),\n",
       "       dtype('float64'), dtype('float64'), dtype('float64'),\n",
       "       dtype('float64'), dtype('float64')], dtype=object)"
      ]
     },
     "execution_count": 18,
     "metadata": {},
     "output_type": "execute_result"
    }
   ],
   "source": [
    "test.dtypes.values"
   ]
  },
  {
   "cell_type": "markdown",
   "metadata": {},
   "source": [
    "All features in the test set have numerical values"
   ]
  },
  {
   "cell_type": "markdown",
   "metadata": {},
   "source": [
    "# Saving prepared for model building data"
   ]
  },
  {
   "cell_type": "code",
   "execution_count": 19,
   "metadata": {},
   "outputs": [],
   "source": [
    "train.to_csv('data/train_cleaned.csv', index=False)\n",
    "test.to_csv('data/test_cleaned.csv', index=False)"
   ]
  }
 ],
 "metadata": {
  "kernelspec": {
   "display_name": "Python 3",
   "language": "python",
   "name": "python3"
  },
  "language_info": {
   "codemirror_mode": {
    "name": "ipython",
    "version": 3
   },
   "file_extension": ".py",
   "mimetype": "text/x-python",
   "name": "python",
   "nbconvert_exporter": "python",
   "pygments_lexer": "ipython3",
   "version": "3.6.5"
  }
 },
 "nbformat": 4,
 "nbformat_minor": 2
}
