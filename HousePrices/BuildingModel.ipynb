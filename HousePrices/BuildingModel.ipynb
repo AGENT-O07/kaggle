{
 "cells": [
  {
   "cell_type": "code",
   "execution_count": 1,
   "metadata": {},
   "outputs": [],
   "source": [
    "import numpy as np\n",
    "import pandas as pd\n",
    "from sklearn.model_selection import GridSearchCV\n",
    "from sklearn.linear_model import Lasso\n",
    "from sklearn.ensemble import GradientBoostingRegressor\n",
    "#from sklearn.metrics import mean_squared_error\n",
    "from sklearn.model_selection import KFold\n",
    "from sklearn.ensemble import GradientBoostingRegressor\n",
    "\n",
    "from sklearn.linear_model import LassoCV"
   ]
  },
  {
   "cell_type": "code",
   "execution_count": 2,
   "metadata": {},
   "outputs": [],
   "source": [
    "train = pd.read_csv('data/train_cleaned.csv')\n",
    "test = pd.read_csv('data/test_cleaned.csv')"
   ]
  },
  {
   "cell_type": "code",
   "execution_count": 3,
   "metadata": {},
   "outputs": [
    {
     "data": {
      "text/html": [
       "<div>\n",
       "<style scoped>\n",
       "    .dataframe tbody tr th:only-of-type {\n",
       "        vertical-align: middle;\n",
       "    }\n",
       "\n",
       "    .dataframe tbody tr th {\n",
       "        vertical-align: top;\n",
       "    }\n",
       "\n",
       "    .dataframe thead th {\n",
       "        text-align: right;\n",
       "    }\n",
       "</style>\n",
       "<table border=\"1\" class=\"dataframe\">\n",
       "  <thead>\n",
       "    <tr style=\"text-align: right;\">\n",
       "      <th></th>\n",
       "      <th>Id</th>\n",
       "      <th>MSSubClass</th>\n",
       "      <th>MSZoning</th>\n",
       "      <th>LotFrontage</th>\n",
       "      <th>LotArea</th>\n",
       "      <th>Street</th>\n",
       "      <th>Alley</th>\n",
       "      <th>LotShape</th>\n",
       "      <th>LandContour</th>\n",
       "      <th>Utilities</th>\n",
       "      <th>...</th>\n",
       "      <th>PoolArea</th>\n",
       "      <th>PoolQC</th>\n",
       "      <th>Fence</th>\n",
       "      <th>MiscFeature</th>\n",
       "      <th>MiscVal</th>\n",
       "      <th>MoSold</th>\n",
       "      <th>YrSold</th>\n",
       "      <th>SaleType</th>\n",
       "      <th>SaleCondition</th>\n",
       "      <th>SalePrice</th>\n",
       "    </tr>\n",
       "  </thead>\n",
       "  <tbody>\n",
       "    <tr>\n",
       "      <th>0</th>\n",
       "      <td>1.0</td>\n",
       "      <td>0.471285</td>\n",
       "      <td>0.446945</td>\n",
       "      <td>-0.078896</td>\n",
       "      <td>-0.133270</td>\n",
       "      <td>0.064238</td>\n",
       "      <td>0.244717</td>\n",
       "      <td>0.701291</td>\n",
       "      <td>0.311112</td>\n",
       "      <td>0.02618</td>\n",
       "      <td>...</td>\n",
       "      <td>-0.069393</td>\n",
       "      <td>0.064907</td>\n",
       "      <td>0.420422</td>\n",
       "      <td>0.171671</td>\n",
       "      <td>-0.190481</td>\n",
       "      <td>-1.909325</td>\n",
       "      <td>-0.928852</td>\n",
       "      <td>0.292103</td>\n",
       "      <td>0.406244</td>\n",
       "      <td>12.247699</td>\n",
       "    </tr>\n",
       "    <tr>\n",
       "      <th>1</th>\n",
       "      <td>2.0</td>\n",
       "      <td>0.785189</td>\n",
       "      <td>0.446945</td>\n",
       "      <td>0.572719</td>\n",
       "      <td>0.113413</td>\n",
       "      <td>0.064238</td>\n",
       "      <td>0.244717</td>\n",
       "      <td>0.701291</td>\n",
       "      <td>0.311112</td>\n",
       "      <td>0.02618</td>\n",
       "      <td>...</td>\n",
       "      <td>-0.069393</td>\n",
       "      <td>0.064907</td>\n",
       "      <td>0.420422</td>\n",
       "      <td>0.171671</td>\n",
       "      <td>-0.190481</td>\n",
       "      <td>-0.279901</td>\n",
       "      <td>1.328846</td>\n",
       "      <td>0.292103</td>\n",
       "      <td>0.406244</td>\n",
       "      <td>12.109016</td>\n",
       "    </tr>\n",
       "    <tr>\n",
       "      <th>2</th>\n",
       "      <td>3.0</td>\n",
       "      <td>0.471285</td>\n",
       "      <td>0.446945</td>\n",
       "      <td>0.062541</td>\n",
       "      <td>0.420049</td>\n",
       "      <td>0.064238</td>\n",
       "      <td>0.244717</td>\n",
       "      <td>-1.016637</td>\n",
       "      <td>0.311112</td>\n",
       "      <td>0.02618</td>\n",
       "      <td>...</td>\n",
       "      <td>-0.069393</td>\n",
       "      <td>0.064907</td>\n",
       "      <td>0.420422</td>\n",
       "      <td>0.171671</td>\n",
       "      <td>-0.190481</td>\n",
       "      <td>0.920928</td>\n",
       "      <td>-0.928852</td>\n",
       "      <td>0.292103</td>\n",
       "      <td>0.406244</td>\n",
       "      <td>12.317171</td>\n",
       "    </tr>\n",
       "    <tr>\n",
       "      <th>3</th>\n",
       "      <td>4.0</td>\n",
       "      <td>-0.470425</td>\n",
       "      <td>0.446945</td>\n",
       "      <td>-0.329561</td>\n",
       "      <td>0.103317</td>\n",
       "      <td>0.064238</td>\n",
       "      <td>0.244717</td>\n",
       "      <td>-1.016637</td>\n",
       "      <td>0.311112</td>\n",
       "      <td>0.02618</td>\n",
       "      <td>...</td>\n",
       "      <td>-0.069393</td>\n",
       "      <td>0.064907</td>\n",
       "      <td>0.420422</td>\n",
       "      <td>0.171671</td>\n",
       "      <td>-0.190481</td>\n",
       "      <td>-1.909325</td>\n",
       "      <td>-0.176286</td>\n",
       "      <td>0.292103</td>\n",
       "      <td>-2.200862</td>\n",
       "      <td>11.849405</td>\n",
       "    </tr>\n",
       "    <tr>\n",
       "      <th>4</th>\n",
       "      <td>5.0</td>\n",
       "      <td>0.471285</td>\n",
       "      <td>0.446945</td>\n",
       "      <td>0.726089</td>\n",
       "      <td>0.878431</td>\n",
       "      <td>0.064238</td>\n",
       "      <td>0.244717</td>\n",
       "      <td>-1.016637</td>\n",
       "      <td>0.311112</td>\n",
       "      <td>0.02618</td>\n",
       "      <td>...</td>\n",
       "      <td>-0.069393</td>\n",
       "      <td>0.064907</td>\n",
       "      <td>0.420422</td>\n",
       "      <td>0.171671</td>\n",
       "      <td>-0.190481</td>\n",
       "      <td>1.537684</td>\n",
       "      <td>-0.928852</td>\n",
       "      <td>0.292103</td>\n",
       "      <td>0.406244</td>\n",
       "      <td>12.429220</td>\n",
       "    </tr>\n",
       "  </tbody>\n",
       "</table>\n",
       "<p>5 rows × 81 columns</p>\n",
       "</div>"
      ],
      "text/plain": [
       "    Id  MSSubClass  MSZoning  LotFrontage   LotArea    Street     Alley  \\\n",
       "0  1.0    0.471285  0.446945    -0.078896 -0.133270  0.064238  0.244717   \n",
       "1  2.0    0.785189  0.446945     0.572719  0.113413  0.064238  0.244717   \n",
       "2  3.0    0.471285  0.446945     0.062541  0.420049  0.064238  0.244717   \n",
       "3  4.0   -0.470425  0.446945    -0.329561  0.103317  0.064238  0.244717   \n",
       "4  5.0    0.471285  0.446945     0.726089  0.878431  0.064238  0.244717   \n",
       "\n",
       "   LotShape  LandContour  Utilities    ...      PoolArea    PoolQC     Fence  \\\n",
       "0  0.701291     0.311112    0.02618    ...     -0.069393  0.064907  0.420422   \n",
       "1  0.701291     0.311112    0.02618    ...     -0.069393  0.064907  0.420422   \n",
       "2 -1.016637     0.311112    0.02618    ...     -0.069393  0.064907  0.420422   \n",
       "3 -1.016637     0.311112    0.02618    ...     -0.069393  0.064907  0.420422   \n",
       "4 -1.016637     0.311112    0.02618    ...     -0.069393  0.064907  0.420422   \n",
       "\n",
       "   MiscFeature   MiscVal    MoSold    YrSold  SaleType  SaleCondition  \\\n",
       "0     0.171671 -0.190481 -1.909325 -0.928852  0.292103       0.406244   \n",
       "1     0.171671 -0.190481 -0.279901  1.328846  0.292103       0.406244   \n",
       "2     0.171671 -0.190481  0.920928 -0.928852  0.292103       0.406244   \n",
       "3     0.171671 -0.190481 -1.909325 -0.176286  0.292103      -2.200862   \n",
       "4     0.171671 -0.190481  1.537684 -0.928852  0.292103       0.406244   \n",
       "\n",
       "   SalePrice  \n",
       "0  12.247699  \n",
       "1  12.109016  \n",
       "2  12.317171  \n",
       "3  11.849405  \n",
       "4  12.429220  \n",
       "\n",
       "[5 rows x 81 columns]"
      ]
     },
     "execution_count": 3,
     "metadata": {},
     "output_type": "execute_result"
    }
   ],
   "source": [
    "train.head()"
   ]
  },
  {
   "cell_type": "code",
   "execution_count": 4,
   "metadata": {},
   "outputs": [
    {
     "data": {
      "text/html": [
       "<div>\n",
       "<style scoped>\n",
       "    .dataframe tbody tr th:only-of-type {\n",
       "        vertical-align: middle;\n",
       "    }\n",
       "\n",
       "    .dataframe tbody tr th {\n",
       "        vertical-align: top;\n",
       "    }\n",
       "\n",
       "    .dataframe thead th {\n",
       "        text-align: right;\n",
       "    }\n",
       "</style>\n",
       "<table border=\"1\" class=\"dataframe\">\n",
       "  <thead>\n",
       "    <tr style=\"text-align: right;\">\n",
       "      <th></th>\n",
       "      <th>Id</th>\n",
       "      <th>MSSubClass</th>\n",
       "      <th>MSZoning</th>\n",
       "      <th>LotFrontage</th>\n",
       "      <th>LotArea</th>\n",
       "      <th>Street</th>\n",
       "      <th>Alley</th>\n",
       "      <th>LotShape</th>\n",
       "      <th>LandContour</th>\n",
       "      <th>Utilities</th>\n",
       "      <th>...</th>\n",
       "      <th>ScreenPorch</th>\n",
       "      <th>PoolArea</th>\n",
       "      <th>PoolQC</th>\n",
       "      <th>Fence</th>\n",
       "      <th>MiscFeature</th>\n",
       "      <th>MiscVal</th>\n",
       "      <th>MoSold</th>\n",
       "      <th>YrSold</th>\n",
       "      <th>SaleType</th>\n",
       "      <th>SaleCondition</th>\n",
       "    </tr>\n",
       "  </thead>\n",
       "  <tbody>\n",
       "    <tr>\n",
       "      <th>0</th>\n",
       "      <td>1461</td>\n",
       "      <td>0.502726</td>\n",
       "      <td>-3.596122</td>\n",
       "      <td>0.623823</td>\n",
       "      <td>0.561787</td>\n",
       "      <td>0.06426</td>\n",
       "      <td>0.269555</td>\n",
       "      <td>0.703009</td>\n",
       "      <td>0.305442</td>\n",
       "      <td>0.03705</td>\n",
       "      <td>...</td>\n",
       "      <td>2.844271</td>\n",
       "      <td>-0.063967</td>\n",
       "      <td>0.042791</td>\n",
       "      <td>-0.919649</td>\n",
       "      <td>0.167895</td>\n",
       "      <td>-0.188227</td>\n",
       "      <td>0.162759</td>\n",
       "      <td>-1.687806</td>\n",
       "      <td>0.296667</td>\n",
       "      <td>0.393203</td>\n",
       "    </tr>\n",
       "    <tr>\n",
       "      <th>1</th>\n",
       "      <td>1462</td>\n",
       "      <td>0.502726</td>\n",
       "      <td>0.463776</td>\n",
       "      <td>0.661410</td>\n",
       "      <td>0.970407</td>\n",
       "      <td>0.06426</td>\n",
       "      <td>0.269555</td>\n",
       "      <td>-1.090156</td>\n",
       "      <td>0.305442</td>\n",
       "      <td>0.03705</td>\n",
       "      <td>...</td>\n",
       "      <td>-0.324992</td>\n",
       "      <td>-0.063967</td>\n",
       "      <td>0.042791</td>\n",
       "      <td>0.434304</td>\n",
       "      <td>-7.997418</td>\n",
       "      <td>7.333230</td>\n",
       "      <td>0.162759</td>\n",
       "      <td>-1.687806</td>\n",
       "      <td>0.296667</td>\n",
       "      <td>0.393203</td>\n",
       "    </tr>\n",
       "    <tr>\n",
       "      <th>2</th>\n",
       "      <td>1463</td>\n",
       "      <td>0.292017</td>\n",
       "      <td>0.463776</td>\n",
       "      <td>0.388069</td>\n",
       "      <td>0.908413</td>\n",
       "      <td>0.06426</td>\n",
       "      <td>0.269555</td>\n",
       "      <td>-1.090156</td>\n",
       "      <td>0.305442</td>\n",
       "      <td>0.03705</td>\n",
       "      <td>...</td>\n",
       "      <td>-0.324992</td>\n",
       "      <td>-0.063967</td>\n",
       "      <td>0.042791</td>\n",
       "      <td>-0.919649</td>\n",
       "      <td>0.167895</td>\n",
       "      <td>-0.188227</td>\n",
       "      <td>-1.100777</td>\n",
       "      <td>-1.687806</td>\n",
       "      <td>0.296667</td>\n",
       "      <td>0.393203</td>\n",
       "    </tr>\n",
       "    <tr>\n",
       "      <th>3</th>\n",
       "      <td>1464</td>\n",
       "      <td>0.292017</td>\n",
       "      <td>0.463776</td>\n",
       "      <td>0.547237</td>\n",
       "      <td>0.257857</td>\n",
       "      <td>0.06426</td>\n",
       "      <td>0.269555</td>\n",
       "      <td>-1.090156</td>\n",
       "      <td>0.305442</td>\n",
       "      <td>0.03705</td>\n",
       "      <td>...</td>\n",
       "      <td>-0.324992</td>\n",
       "      <td>-0.063967</td>\n",
       "      <td>0.042791</td>\n",
       "      <td>0.434304</td>\n",
       "      <td>0.167895</td>\n",
       "      <td>-0.188227</td>\n",
       "      <td>0.162759</td>\n",
       "      <td>-1.687806</td>\n",
       "      <td>0.296667</td>\n",
       "      <td>0.393203</td>\n",
       "    </tr>\n",
       "    <tr>\n",
       "      <th>4</th>\n",
       "      <td>1465</td>\n",
       "      <td>-0.129400</td>\n",
       "      <td>0.463776</td>\n",
       "      <td>-1.245577</td>\n",
       "      <td>-1.116969</td>\n",
       "      <td>0.06426</td>\n",
       "      <td>0.269555</td>\n",
       "      <td>-1.090156</td>\n",
       "      <td>-1.477119</td>\n",
       "      <td>0.03705</td>\n",
       "      <td>...</td>\n",
       "      <td>2.963846</td>\n",
       "      <td>-0.063967</td>\n",
       "      <td>0.042791</td>\n",
       "      <td>0.434304</td>\n",
       "      <td>0.167895</td>\n",
       "      <td>-0.188227</td>\n",
       "      <td>-2.665809</td>\n",
       "      <td>-1.687806</td>\n",
       "      <td>0.296667</td>\n",
       "      <td>0.393203</td>\n",
       "    </tr>\n",
       "  </tbody>\n",
       "</table>\n",
       "<p>5 rows × 80 columns</p>\n",
       "</div>"
      ],
      "text/plain": [
       "     Id  MSSubClass  MSZoning  LotFrontage   LotArea   Street     Alley  \\\n",
       "0  1461    0.502726 -3.596122     0.623823  0.561787  0.06426  0.269555   \n",
       "1  1462    0.502726  0.463776     0.661410  0.970407  0.06426  0.269555   \n",
       "2  1463    0.292017  0.463776     0.388069  0.908413  0.06426  0.269555   \n",
       "3  1464    0.292017  0.463776     0.547237  0.257857  0.06426  0.269555   \n",
       "4  1465   -0.129400  0.463776    -1.245577 -1.116969  0.06426  0.269555   \n",
       "\n",
       "   LotShape  LandContour  Utilities      ...        ScreenPorch  PoolArea  \\\n",
       "0  0.703009     0.305442    0.03705      ...           2.844271 -0.063967   \n",
       "1 -1.090156     0.305442    0.03705      ...          -0.324992 -0.063967   \n",
       "2 -1.090156     0.305442    0.03705      ...          -0.324992 -0.063967   \n",
       "3 -1.090156     0.305442    0.03705      ...          -0.324992 -0.063967   \n",
       "4 -1.090156    -1.477119    0.03705      ...           2.963846 -0.063967   \n",
       "\n",
       "     PoolQC     Fence  MiscFeature   MiscVal    MoSold    YrSold  SaleType  \\\n",
       "0  0.042791 -0.919649     0.167895 -0.188227  0.162759 -1.687806  0.296667   \n",
       "1  0.042791  0.434304    -7.997418  7.333230  0.162759 -1.687806  0.296667   \n",
       "2  0.042791 -0.919649     0.167895 -0.188227 -1.100777 -1.687806  0.296667   \n",
       "3  0.042791  0.434304     0.167895 -0.188227  0.162759 -1.687806  0.296667   \n",
       "4  0.042791  0.434304     0.167895 -0.188227 -2.665809 -1.687806  0.296667   \n",
       "\n",
       "   SaleCondition  \n",
       "0       0.393203  \n",
       "1       0.393203  \n",
       "2       0.393203  \n",
       "3       0.393203  \n",
       "4       0.393203  \n",
       "\n",
       "[5 rows x 80 columns]"
      ]
     },
     "execution_count": 4,
     "metadata": {},
     "output_type": "execute_result"
    }
   ],
   "source": [
    "test.head()"
   ]
  },
  {
   "cell_type": "code",
   "execution_count": 5,
   "metadata": {},
   "outputs": [],
   "source": [
    "kf = KFold(n_splits=10, shuffle=True, random_state=0)"
   ]
  },
  {
   "cell_type": "markdown",
   "metadata": {},
   "source": [
    "# Extracting data from Dataframes to numpy arrays"
   ]
  },
  {
   "cell_type": "code",
   "execution_count": 6,
   "metadata": {},
   "outputs": [],
   "source": [
    "y = train['SalePrice'].values\n",
    "x_train = train.drop(columns=['Id','SalePrice']).values\n",
    "x_test = test.drop(columns='Id').values"
   ]
  },
  {
   "cell_type": "markdown",
   "metadata": {},
   "source": [
    "# Lasso model"
   ]
  },
  {
   "cell_type": "code",
   "execution_count": 7,
   "metadata": {},
   "outputs": [],
   "source": [
    "lasso_model = Lasso()\n",
    "parameters_lasso = {'alpha': [1e-5, 1e-4, 1e-3, 1e-2, 1, 5, 10, 20]}"
   ]
  },
  {
   "cell_type": "code",
   "execution_count": 8,
   "metadata": {},
   "outputs": [],
   "source": [
    "lasso_reg = GridSearchCV(lasso_model, \n",
    "                         parameters_lasso, \n",
    "                         cv=kf, \n",
    "                         scoring='neg_mean_squared_error',\n",
    "                         refit=True,\n",
    "                         n_jobs=-1)\n",
    "lasso_reg.fit(x_train,y);"
   ]
  },
  {
   "cell_type": "code",
   "execution_count": 9,
   "metadata": {},
   "outputs": [
    {
     "name": "stdout",
     "output_type": "stream",
     "text": [
      "Lasso best score:  -0.019695435092210604\n"
     ]
    }
   ],
   "source": [
    "print('Lasso best score: ', lasso_reg.best_score_)"
   ]
  },
  {
   "cell_type": "code",
   "execution_count": 10,
   "metadata": {},
   "outputs": [
    {
     "name": "stdout",
     "output_type": "stream",
     "text": [
      "Lasso best parameters:  {'alpha': 0.001}\n"
     ]
    }
   ],
   "source": [
    "print('Lasso best parameters: ', lasso_reg.best_params_)"
   ]
  },
  {
   "cell_type": "code",
   "execution_count": 11,
   "metadata": {},
   "outputs": [],
   "source": [
    "lasso_model = lasso_reg.best_estimator_\n",
    "lasso_predictions = lasso_model.predict(x_test)\n",
    "lasso_predictions = np.expm1(lasso_predictions)"
   ]
  },
  {
   "cell_type": "markdown",
   "metadata": {},
   "source": [
    "# XGB Model"
   ]
  },
  {
   "cell_type": "code",
   "execution_count": 12,
   "metadata": {},
   "outputs": [],
   "source": [
    "xgb_model = GradientBoostingRegressor()\n",
    "parameters_xgb = {'n_estimators': np.arange(10,x_train.shape[1],20),\n",
    "              'max_depth': np.arange(2, 5, 1),\n",
    "              'max_features': ['auto', 'sqrt', 1/3]}"
   ]
  },
  {
   "cell_type": "code",
   "execution_count": 13,
   "metadata": {},
   "outputs": [],
   "source": [
    "xgb_reg = GridSearchCV(xgb_model, \n",
    "                   parameters_xgb, \n",
    "                   cv=kf, \n",
    "                   scoring='neg_mean_squared_error',\n",
    "                   refit=True,\n",
    "                   n_jobs=-1)\n",
    "xgb_reg.fit(x_train,y);"
   ]
  },
  {
   "cell_type": "code",
   "execution_count": 14,
   "metadata": {},
   "outputs": [
    {
     "name": "stdout",
     "output_type": "stream",
     "text": [
      "XGB best score:  -0.01748680547822181\n"
     ]
    }
   ],
   "source": [
    "print('XGB best score: ', xgb_reg.best_score_)"
   ]
  },
  {
   "cell_type": "code",
   "execution_count": 15,
   "metadata": {},
   "outputs": [
    {
     "name": "stdout",
     "output_type": "stream",
     "text": [
      "XGB best parameters:  {'max_depth': 4, 'max_features': 'auto', 'n_estimators': 70}\n"
     ]
    }
   ],
   "source": [
    "print('XGB best parameters: ', xgb_reg.best_params_)"
   ]
  },
  {
   "cell_type": "code",
   "execution_count": 16,
   "metadata": {},
   "outputs": [],
   "source": [
    "xgb_model = xgb_reg.best_estimator_\n",
    "xgb_predictions = xgb_model.predict(x_test)\n",
    "xgb_predictions = np.expm1(xgb_predictions)"
   ]
  },
  {
   "cell_type": "markdown",
   "metadata": {},
   "source": [
    "# Blending models' predictions and saving results"
   ]
  },
  {
   "cell_type": "code",
   "execution_count": 17,
   "metadata": {},
   "outputs": [
    {
     "data": {
      "text/plain": [
       "array([118430.26883592, 149850.56854487, 184761.58575159, ...,\n",
       "       169537.25902658, 121408.01549731, 242989.7595048 ])"
      ]
     },
     "execution_count": 17,
     "metadata": {},
     "output_type": "execute_result"
    }
   ],
   "source": [
    "predictions = (lasso_predictions + xgb_predictions) / 2\n",
    "predictions"
   ]
  },
  {
   "cell_type": "code",
   "execution_count": 18,
   "metadata": {},
   "outputs": [],
   "source": [
    "predictions = pd.DataFrame({'Id' : test['Id'], 'SalePrice' : predictions})\n",
    "predictions.to_csv('data/submission.csv', index=False)"
   ]
  }
 ],
 "metadata": {
  "kernelspec": {
   "display_name": "Python 3",
   "language": "python",
   "name": "python3"
  },
  "language_info": {
   "codemirror_mode": {
    "name": "ipython",
    "version": 3
   },
   "file_extension": ".py",
   "mimetype": "text/x-python",
   "name": "python",
   "nbconvert_exporter": "python",
   "pygments_lexer": "ipython3",
   "version": "3.6.5"
  }
 },
 "nbformat": 4,
 "nbformat_minor": 2
}
