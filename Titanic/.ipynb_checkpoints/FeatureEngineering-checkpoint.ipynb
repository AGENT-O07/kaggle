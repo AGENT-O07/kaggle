{
 "cells": [
  {
   "cell_type": "code",
   "execution_count": 9,
   "metadata": {},
   "outputs": [],
   "source": [
    "import pandas as pd\n",
    "import numpy as np\n",
    "import matplotlib.pyplot as plt\n",
    "import seaborn as sns\n",
    "%matplotlib inline"
   ]
  },
  {
   "cell_type": "code",
   "execution_count": 10,
   "metadata": {},
   "outputs": [],
   "source": [
    "train = pd.read_csv('data/train.csv')\n",
    "test = pd.read_csv('data/test.csv')"
   ]
  },
  {
   "cell_type": "code",
   "execution_count": 11,
   "metadata": {},
   "outputs": [],
   "source": [
    "passengerId = test['PassengerId'] # Passenger Id column will be used for the output dataframe\n",
    "survived = train['Survived'] # Survived column will be used in the training\n",
    "\n",
    "train.drop(columns='Survived', inplace=True)\n",
    "data = pd.concat([train, test]);\n",
    "data.drop(columns='PassengerId', inplace=True)"
   ]
  },
  {
   "cell_type": "code",
   "execution_count": 12,
   "metadata": {},
   "outputs": [
    {
     "data": {
      "text/plain": [
       "0      Mr\n",
       "1     Mrs\n",
       "2    Miss\n",
       "3     Mrs\n",
       "4      Mr\n",
       "Name: Title, dtype: object"
      ]
     },
     "execution_count": 12,
     "metadata": {},
     "output_type": "execute_result"
    }
   ],
   "source": [
    "# Extracting titles from full names\n",
    "data['Title'] = data['Name'].apply(lambda x: x.split(',')[1].split('.')[0].strip())\n",
    "data.drop(columns='Name', inplace=True)\n",
    "data['Title'].head()"
   ]
  },
  {
   "cell_type": "code",
   "execution_count": 15,
   "metadata": {},
   "outputs": [
    {
     "data": {
      "text/plain": [
       "Mr              757\n",
       "Miss            260\n",
       "Mrs             197\n",
       "Master           61\n",
       "Dr                8\n",
       "Rev               8\n",
       "Col               4\n",
       "Mlle              2\n",
       "Ms                2\n",
       "Major             2\n",
       "the Countess      1\n",
       "Sir               1\n",
       "Lady              1\n",
       "Don               1\n",
       "Mme               1\n",
       "Dona              1\n",
       "Capt              1\n",
       "Jonkheer          1\n",
       "Name: Title, dtype: int64"
      ]
     },
     "execution_count": 15,
     "metadata": {},
     "output_type": "execute_result"
    }
   ],
   "source": [
    "data['Title'].value_counts()"
   ]
  },
  {
   "cell_type": "code",
   "execution_count": 16,
   "metadata": {},
   "outputs": [],
   "source": [
    "# Grouping the titles in more general groups\n",
    "grouped_titles = {\n",
    "    'Mr' :           'Mr',\n",
    "    \n",
    "    'Mrs':           'Mrs',\n",
    "    'Mme':           'Mrs',\n",
    "    'Ms':            'Mrs',\n",
    "    \n",
    "    'Miss':          'Miss',\n",
    "    'Mlle':          'Miss',\n",
    "    \n",
    "    'Master':        'Master',\n",
    "    \n",
    "    'Don':           'Royalty',\n",
    "    'Lady':          'Royalty',\n",
    "    'Sir':           'Royalty',\n",
    "    'the Countess':  'Royalty',\n",
    "    'Jonkheer':      'Royalty',\n",
    "    'Dona':          'Royalty',\n",
    "    \n",
    "    'Rev':           'Crew',\n",
    "    'Dr':            'Crew',\n",
    "    'Major':         'Crew',\n",
    "    'Col':           'Crew',\n",
    "    'Capt':          'Crew' \n",
    "}"
   ]
  },
  {
   "cell_type": "code",
   "execution_count": 17,
   "metadata": {},
   "outputs": [
    {
     "data": {
      "text/plain": [
       "Mr         757\n",
       "Miss       262\n",
       "Mrs        200\n",
       "Master      61\n",
       "Crew        23\n",
       "Royalty      6\n",
       "Name: Title, dtype: int64"
      ]
     },
     "execution_count": 17,
     "metadata": {},
     "output_type": "execute_result"
    }
   ],
   "source": [
    "# Updating titles\n",
    "data['Title'] = data['Title'].map(grouped_titles)\n",
    "data['Title'].value_counts()"
   ]
  },
  {
   "cell_type": "code",
   "execution_count": null,
   "metadata": {},
   "outputs": [],
   "source": []
  }
 ],
 "metadata": {
  "kernelspec": {
   "display_name": "Python 3",
   "language": "python",
   "name": "python3"
  },
  "language_info": {
   "codemirror_mode": {
    "name": "ipython",
    "version": 3
   },
   "file_extension": ".py",
   "mimetype": "text/x-python",
   "name": "python",
   "nbconvert_exporter": "python",
   "pygments_lexer": "ipython3",
   "version": "3.6.5"
  }
 },
 "nbformat": 4,
 "nbformat_minor": 2
}
